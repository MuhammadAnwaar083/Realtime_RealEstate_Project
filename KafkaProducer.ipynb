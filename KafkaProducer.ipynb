{
 "cells": [
  {
   "cell_type": "code",
   "execution_count": 1,
   "id": "7f5a61fa",
   "metadata": {},
   "outputs": [
    {
     "name": "stdout",
     "output_type": "stream",
     "text": [
      "Defaulting to user installation because normal site-packages is not writeable\n",
      "Requirement already satisfied: kafka-python in c:\\users\\dell\\appdata\\roaming\\python\\python311\\site-packages (2.0.2)\n",
      "Note: you may need to restart the kernel to use updated packages.\n"
     ]
    }
   ],
   "source": [
    "pip install kafka-python"
   ]
  },
  {
   "cell_type": "code",
   "execution_count": 2,
   "id": "8b8bab4a",
   "metadata": {},
   "outputs": [],
   "source": [
    "import pandas as pd\n",
    "from kafka import KafkaProducer\n",
    "from time import sleep\n",
    "from json import dumps\n",
    "import json"
   ]
  },
  {
   "cell_type": "code",
   "execution_count": 3,
   "id": "0eaccdad",
   "metadata": {},
   "outputs": [],
   "source": [
    "producer = KafkaProducer(\n",
    "    bootstrap_servers=['43.204.141.142:9092'],\n",
    "    value_serializer=lambda x:\n",
    "    dumps(x).encode('utf-8')\n",
    ")\n",
    "                        \n",
    "                       "
   ]
  },
  {
   "cell_type": "code",
   "execution_count": 4,
   "id": "7cb22bf5",
   "metadata": {},
   "outputs": [
    {
     "data": {
      "text/plain": [
       "<kafka.producer.future.FutureRecordMetadata at 0x2af81d9edd0>"
      ]
     },
     "execution_count": 4,
     "metadata": {},
     "output_type": "execute_result"
    }
   ],
   "source": [
    "producer.send('demo_tests',value=\"{'is':'kon ha to'}\")"
   ]
  },
  {
   "cell_type": "code",
   "execution_count": 5,
   "id": "844730ba",
   "metadata": {},
   "outputs": [],
   "source": [
    "df = pd.read_csv('C:\\\\Users\\\\dell\\\\Desktop\\\\main\\\\kafka project key\\\\uae_real_estate_2024.csv')\n"
   ]
  },
  {
   "cell_type": "code",
   "execution_count": 33,
   "id": "e5edfc4a",
   "metadata": {},
   "outputs": [
    {
     "data": {
      "text/html": [
       "<div>\n",
       "<style scoped>\n",
       "    .dataframe tbody tr th:only-of-type {\n",
       "        vertical-align: middle;\n",
       "    }\n",
       "\n",
       "    .dataframe tbody tr th {\n",
       "        vertical-align: top;\n",
       "    }\n",
       "\n",
       "    .dataframe thead th {\n",
       "        text-align: right;\n",
       "    }\n",
       "</style>\n",
       "<table border=\"1\" class=\"dataframe\">\n",
       "  <thead>\n",
       "    <tr style=\"text-align: right;\">\n",
       "      <th></th>\n",
       "      <th>title</th>\n",
       "      <th>displayAddress</th>\n",
       "      <th>bathrooms</th>\n",
       "      <th>bedrooms</th>\n",
       "      <th>addedOn</th>\n",
       "      <th>type</th>\n",
       "      <th>price</th>\n",
       "      <th>verified</th>\n",
       "      <th>priceDuration</th>\n",
       "      <th>sizeMin</th>\n",
       "      <th>furnishing</th>\n",
       "      <th>description</th>\n",
       "    </tr>\n",
       "  </thead>\n",
       "  <tbody>\n",
       "    <tr>\n",
       "      <th>0</th>\n",
       "      <td>Great ROI I High Floor I Creek View</td>\n",
       "      <td>Binghatti Canal, Business Bay, Dubai</td>\n",
       "      <td>3</td>\n",
       "      <td>2</td>\n",
       "      <td>2024-08-14T12:02:53Z</td>\n",
       "      <td>Residential for Sale</td>\n",
       "      <td>2500000</td>\n",
       "      <td>True</td>\n",
       "      <td>sell</td>\n",
       "      <td>1323 sqft</td>\n",
       "      <td>NO</td>\n",
       "      <td>MNA Properties is delighted to offer this apar...</td>\n",
       "    </tr>\n",
       "    <tr>\n",
       "      <th>1</th>\n",
       "      <td>Full Sea View | Beach Life | Brand New Residence</td>\n",
       "      <td>La Vie, Jumeirah Beach Residence, Dubai</td>\n",
       "      <td>3</td>\n",
       "      <td>2</td>\n",
       "      <td>2024-08-13T05:45:16Z</td>\n",
       "      <td>Residential for Sale</td>\n",
       "      <td>7200000</td>\n",
       "      <td>True</td>\n",
       "      <td>sell</td>\n",
       "      <td>1410 sqft</td>\n",
       "      <td>YES</td>\n",
       "      <td>Apartment for sale in La Vie, Jumeirah Beach R...</td>\n",
       "    </tr>\n",
       "    <tr>\n",
       "      <th>2</th>\n",
       "      <td>Green Belt | Corner Unit | Spacious Plot</td>\n",
       "      <td>La Rosa 6, Villanova, Dubai Land, Dubai</td>\n",
       "      <td>3</td>\n",
       "      <td>4</td>\n",
       "      <td>2024-08-14T06:24:28Z</td>\n",
       "      <td>Residential for Sale</td>\n",
       "      <td>3600000</td>\n",
       "      <td>True</td>\n",
       "      <td>sell</td>\n",
       "      <td>2324 sqft</td>\n",
       "      <td>NO</td>\n",
       "      <td>Treo Homes is very pleased to be bringing to t...</td>\n",
       "    </tr>\n",
       "    <tr>\n",
       "      <th>3</th>\n",
       "      <td>2BR+Study | Near Pool and Park | Private</td>\n",
       "      <td>Springs 15, The Springs, Dubai</td>\n",
       "      <td>3</td>\n",
       "      <td>2</td>\n",
       "      <td>2024-08-15T06:07:22Z</td>\n",
       "      <td>Residential for Sale</td>\n",
       "      <td>2999999</td>\n",
       "      <td>True</td>\n",
       "      <td>sell</td>\n",
       "      <td>1647 sqft</td>\n",
       "      <td>NO</td>\n",
       "      <td>2 Bedrooms + Study | Near Pool &amp;amp; Park | Pr...</td>\n",
       "    </tr>\n",
       "    <tr>\n",
       "      <th>4</th>\n",
       "      <td>Vacant | Well Maintained | Area Expert</td>\n",
       "      <td>Noor Townhouses, Town Square, Dubai</td>\n",
       "      <td>3</td>\n",
       "      <td>3</td>\n",
       "      <td>2024-08-09T08:28:59Z</td>\n",
       "      <td>Residential for Sale</td>\n",
       "      <td>2449999</td>\n",
       "      <td>True</td>\n",
       "      <td>sell</td>\n",
       "      <td>2105 sqft</td>\n",
       "      <td>NO</td>\n",
       "      <td>-Type 1\\n-3 Bed+Maid\\n-Close To Amenities\\n-BU...</td>\n",
       "    </tr>\n",
       "  </tbody>\n",
       "</table>\n",
       "</div>"
      ],
      "text/plain": [
       "                                              title  \\\n",
       "0               Great ROI I High Floor I Creek View   \n",
       "1  Full Sea View | Beach Life | Brand New Residence   \n",
       "2          Green Belt | Corner Unit | Spacious Plot   \n",
       "3          2BR+Study | Near Pool and Park | Private   \n",
       "4            Vacant | Well Maintained | Area Expert   \n",
       "\n",
       "                            displayAddress bathrooms bedrooms  \\\n",
       "0     Binghatti Canal, Business Bay, Dubai         3        2   \n",
       "1  La Vie, Jumeirah Beach Residence, Dubai         3        2   \n",
       "2  La Rosa 6, Villanova, Dubai Land, Dubai         3        4   \n",
       "3           Springs 15, The Springs, Dubai         3        2   \n",
       "4      Noor Townhouses, Town Square, Dubai         3        3   \n",
       "\n",
       "                addedOn                  type    price  verified  \\\n",
       "0  2024-08-14T12:02:53Z  Residential for Sale  2500000      True   \n",
       "1  2024-08-13T05:45:16Z  Residential for Sale  7200000      True   \n",
       "2  2024-08-14T06:24:28Z  Residential for Sale  3600000      True   \n",
       "3  2024-08-15T06:07:22Z  Residential for Sale  2999999      True   \n",
       "4  2024-08-09T08:28:59Z  Residential for Sale  2449999      True   \n",
       "\n",
       "  priceDuration    sizeMin furnishing  \\\n",
       "0          sell  1323 sqft         NO   \n",
       "1          sell  1410 sqft        YES   \n",
       "2          sell  2324 sqft         NO   \n",
       "3          sell  1647 sqft         NO   \n",
       "4          sell  2105 sqft         NO   \n",
       "\n",
       "                                         description  \n",
       "0  MNA Properties is delighted to offer this apar...  \n",
       "1  Apartment for sale in La Vie, Jumeirah Beach R...  \n",
       "2  Treo Homes is very pleased to be bringing to t...  \n",
       "3  2 Bedrooms + Study | Near Pool &amp; Park | Pr...  \n",
       "4  -Type 1\\n-3 Bed+Maid\\n-Close To Amenities\\n-BU...  "
      ]
     },
     "execution_count": 33,
     "metadata": {},
     "output_type": "execute_result"
    }
   ],
   "source": [
    "df.head()"
   ]
  },
  {
   "cell_type": "code",
   "execution_count": null,
   "id": "1d691070",
   "metadata": {},
   "outputs": [],
   "source": [
    "import time\n",
    "\n",
    "# Continuously send data to Kafka topic\n",
    "while True:\n",
    "    # Select a random row from the DataFrame and convert it to a dictionary\n",
    "    dict_stock = df.sample(1).to_dict(orient=\"records\")[0]\n",
    "    \n",
    "    # Send the randomly selected row to the Kafka topic\n",
    "    producer.send('demo_tests', value=dict_stock)\n",
    "    \n",
    "    # Add a small delay to avoid flooding the topic with messages too quickly\n",
    "    time.sleep(1)  # Adjust the sleep duration as needed\n"
   ]
  },
  {
   "cell_type": "code",
   "execution_count": null,
   "id": "ee7ada26",
   "metadata": {},
   "outputs": [],
   "source": [
    " df.show()"
   ]
  },
  {
   "cell_type": "code",
   "execution_count": null,
   "id": "764919a3",
   "metadata": {},
   "outputs": [],
   "source": [
    " for count, i in enumerate(Consumer):\n",
    "        print(count)\n",
    "        print(i.value)"
   ]
  },
  {
   "cell_type": "code",
   "execution_count": null,
   "id": "36a40176",
   "metadata": {},
   "outputs": [],
   "source": []
  },
  {
   "cell_type": "code",
   "execution_count": null,
   "id": "6e6b850e",
   "metadata": {},
   "outputs": [],
   "source": []
  }
 ],
 "metadata": {
  "kernelspec": {
   "display_name": "Python 3 (ipykernel)",
   "language": "python",
   "name": "python3"
  },
  "language_info": {
   "codemirror_mode": {
    "name": "ipython",
    "version": 3
   },
   "file_extension": ".py",
   "mimetype": "text/x-python",
   "name": "python",
   "nbconvert_exporter": "python",
   "pygments_lexer": "ipython3",
   "version": "3.11.7"
  }
 },
 "nbformat": 4,
 "nbformat_minor": 5
}
